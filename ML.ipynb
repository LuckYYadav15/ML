{
  "nbformat": 4,
  "nbformat_minor": 0,
  "metadata": {
    "colab": {
      "provenance": [],
      "mount_file_id": "1Y1zlvA-F-rqEYVMW-SnyJBPdf7Q4I6wd",
      "authorship_tag": "ABX9TyPydcBxHw8qu0xxpf5Mip/T",
      "include_colab_link": true
    },
    "kernelspec": {
      "name": "python3",
      "display_name": "Python 3"
    },
    "language_info": {
      "name": "python"
    }
  },
  "cells": [
    {
      "cell_type": "markdown",
      "metadata": {
        "id": "view-in-github",
        "colab_type": "text"
      },
      "source": [
        "<a href=\"https://colab.research.google.com/github/LuckYYadav15/ML/blob/main/ML.ipynb\" target=\"_parent\"><img src=\"https://colab.research.google.com/assets/colab-badge.svg\" alt=\"Open In Colab\"/></a>"
      ]
    },
    {
      "cell_type": "code",
      "execution_count": 66,
      "metadata": {
        "id": "Ez7IQ0LLUkpE",
        "colab": {
          "base_uri": "https://localhost:8080/",
          "height": 282
        },
        "outputId": "1964e3ef-ac68-45c0-a186-76f9dd59180f"
      },
      "outputs": [
        {
          "output_type": "stream",
          "name": "stdout",
          "text": [
            "19945941132063\n"
          ]
        },
        {
          "output_type": "display_data",
          "data": {
            "text/plain": [
              "<Figure size 432x288 with 1 Axes>"
            ],
            "image/png": "[encoded data removed]"
          },
          "metadata": {
            "needs_background": "light"
          }
        }
      ],
      "source": [
        "# OLS numpy\n",
        "\n",
        "import numpy as np\n",
        "import pandas as pd\n",
        "import matplotlib.pyplot as plt\n",
        "data = pd.read_csv('train.csv')\n",
        "tempxData = data.iloc[:,4]\n",
        "tempyData = data.iloc[:,80]\n",
        "xData =  tempxData[0:30]\n",
        "yData = tempyData[0:30]\n",
        "xdata = xData[0:8]\n",
        "# print(xdata)\n",
        "# yData = data.iloc[:, 80]\n",
        "ydata = yData[0:8]\n",
        "# X = data.iloc[:,1]\n",
        "# print(yData)\n",
        "# print(data.iloc[:,0].values())\n",
        "# print(data.shape) \n",
        "# y = mx + c \n",
        "# print(xData.shape)\n",
        "# print(len(xdata.))\n",
        "# B = np.ones(len(xData))\n",
        "# # print(B)\n",
        "# A = np.stack([xData, B]).T\n",
        "# # print(A)\n",
        "# m,c = np.linalg.lstsq(A)\n",
        "xAv = np.average(xData)\n",
        "yAv = np.average(yData)\n",
        "temp = len(xData)\n",
        "k = 0\n",
        "for i in range(temp):\n",
        "    k += ((xData[i]-xAv)*(yData[i]-yAv))/((xData[i]-xAv)**2)\n",
        "\n",
        "# print(k)\n",
        "m = k\n",
        "b = yAv - m * xAv\n",
        "# print(b)\n",
        "a = 0\n",
        "yPred = xData\n",
        "for i in range(temp):\n",
        "  yPred[i] = (m * xData[i] + b)\n",
        "# print((ypred-yData)**2)\n",
        "# print(ypred)\n",
        "for i in range(temp):\n",
        "  a += ((yPred[i]-yData[i])**2)\n",
        "print(a)\n",
        "# for i in range(temp):\n",
        "#   a += (yData[i]-yAv)**2\n",
        "ypred = yPred[0:8]\n",
        "\n",
        "plt.plot(xdata, ydata,'o')\n",
        "plt.plot(xdata, ypred, '-')\n",
        "plt.show()\n",
        "\n",
        "# if xData = data.iloc[:, 18]   accuracy = 19945941132063\n",
        "# if xData = data.iloc[:, 17]   accuracy = 48847846644982\n",
        "# if xData = data.iloc[:, 18]   accuracy = 109278093142384\n",
        "\n",
        "# if we take area VS price we get most accurate model"
      ]
    },
    {
      "cell_type": "code",
      "source": [
        "# Linear Regression\n",
        "import numpy as np\n",
        "import pandas as pd\n",
        "import seaborn as sns\n",
        "import matplotlib.pyplot as plt\n",
        "\n",
        "\n",
        "data = pd.read_csv('linearGradient.csv')\n",
        "# print(data)\n",
        "X = data.iloc[:,0]\n",
        "Y = data.iloc[:,1]\n",
        "# X = x[0:100]\n",
        "# Y = y[0:100]\n",
        "B = np.ones(len(X))\n",
        "# print(B)\n",
        "xData = np.stack([X,B]).T\n",
        "# print(xData)\n",
        "# print(data.shape)\n",
        "# print(X)\n",
        "# data.head()\n",
        "# sns.heatmap(data.corr())\n",
        "\n",
        "# directly calculates\n",
        "# m, c = np.linalg.lstsq(xData, Y, rcond = None)[0]\n",
        "# print(\"m: \", m, \"c: \", c)\n",
        "\n",
        "\n",
        "# Linear Regression\n",
        "\n",
        "m = 0\n",
        "c = 0\n",
        "\n",
        "alpha = 0.0001\n",
        "iteration = 1000\n",
        "n = len(X)\n",
        "# print (n)\n",
        "fig, axs = plt.subplots(2)\n",
        "for i in range(n):\n",
        "  yPred = m* X +c\n",
        "  #partial derivative\n",
        "  Dv_m = (-2/n) * sum(X * (Y- yPred))\n",
        "  Dv_c = (-2/n) * sum(Y- yPred)\n",
        "  m = m - alpha * Dv_m\n",
        "  c = c - alpha * Dv_c\n",
        "  # print(m,c)\n",
        "  axs[0].plot(m,c, '.')\n",
        "axs[0].set_title('Gradient Descent')\n",
        "print(m,c)\n",
        "axs[1].plot(X, Y, 'rx', label = 'Training data')\n",
        "axs[1].plot(X, yPred, label = 'Regression Line')\n",
        "\n",
        "axs[1].set_title('Linear Regression')\n",
        "\n",
        "plt.grid()\n",
        "# plt.show()"
      ],
      "metadata": {
        "colab": {
          "base_uri": "https://localhost:8080/",
          "height": 298
        },
        "id": "C9cmxXku1x9c",
        "outputId": "46917dad-bfe1-437a-d830-5401ee143362"
      },
      "execution_count": 65,
      "outputs": [
        {
          "output_type": "stream",
          "name": "stdout",
          "text": [
            "1.4809284677644328 0.03623535409423161\n"
          ]
        },
        {
          "output_type": "display_data",
          "data": {
            "text/plain": [
              "<Figure size 432x288 with 2 Axes>"
            ],
            "image/png": "[encoded data removed]"
          },
          "metadata": {
            "needs_background": "light"
          }
        }
      ]
    }
  ]
}